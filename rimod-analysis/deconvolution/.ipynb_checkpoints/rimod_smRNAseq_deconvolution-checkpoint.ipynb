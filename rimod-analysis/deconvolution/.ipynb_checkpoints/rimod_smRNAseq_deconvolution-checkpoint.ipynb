{
 "cells": [
  {
   "cell_type": "code",
   "execution_count": 6,
   "metadata": {},
   "outputs": [],
   "source": [
    "import pandas as pd\n",
    "import numpy as np\n",
    "from scipy.optimize import nnls\n",
    "from pathlib import Path"
   ]
  },
  {
   "cell_type": "code",
   "execution_count": 2,
   "metadata": {},
   "outputs": [],
   "source": [
    "def regress_celltype(matrix, fractions):\n",
    "    \"\"\"\n",
    "    Regress the expression of a certain cell type\n",
    "    \"\"\"\n",
    "    M = np.array(matrix)\n",
    "    F = np.array(fractions)\n",
    "\n",
    "    exp_list = []\n",
    "    residual_list = []\n",
    "    for i in range(M.shape[0]):\n",
    "        res = nnls(F, M[i,:])\n",
    "        exp_list.append(res[0])\n",
    "        residual_list.append(res[1])\n",
    "\n",
    "    df = pd.DataFrame(exp_list, index=list(matrix.index), columns = list(fractions.columns))\n",
    "    df['residuals'] = residual_list\n",
    "    return df"
   ]
  },
  {
   "cell_type": "code",
   "execution_count": 8,
   "metadata": {},
   "outputs": [
    {
     "name": "stdout",
     "output_type": "stream",
     "text": [
      "41 common samples\n"
     ]
    }
   ],
   "source": [
    "base_path = Path(\"/Users/kevin/dzne/rimod_package\")\n",
    "\n",
    "# load expression matrix\n",
    "mat_file = base_path / \"smRNAseq/analysis/deconvolution_0919\" / \"deseq_rLog_values_frontal_smRNA.txt\"\n",
    "mat = pd.read_csv(mat_file, sep=\"\\t\", index_col=0)\n",
    "mat.index = [x.split(\".\")[0] for x in list(mat.index)]\n",
    "cols = [x.replace(\"sample_\", \"\") for x in list(mat.columns)]\n",
    "mat.columns = [x[0:5] for x in cols]\n",
    "\n",
    "# load predicted fractions\n",
    "fracs_file = base_path / \"analysis/deconvolution/cdn_predictions.txt\"\n",
    "fracs = pd.read_csv(fracs_file, sep=\"\\t\", index_col=0)\n",
    "fracs.index = [x.replace(\"X\", \"\") for x in list(fracs.index)]\n",
    "fracs.index = [x[0:5] for x in list(fracs.index)]\n",
    "\n",
    "\n",
    "# Get common samples\n",
    "cmn = set(mat.columns).intersection(set(fracs.index))\n",
    "print(f\"{len(cmn)} common samples\")\n",
    "\n",
    "# Subset and order according to common samples\n",
    "mat = mat[cmn]\n",
    "fracs = fracs.loc[cmn]\n"
   ]
  },
  {
   "cell_type": "markdown",
   "metadata": {},
   "source": [
    "# Regress expression of every miRNA"
   ]
  },
  {
   "cell_type": "code",
   "execution_count": 17,
   "metadata": {},
   "outputs": [],
   "source": [
    "df = regress_celltype(mat, fracs)\n",
    "df.to_csv(base_path / \"smRNAseq/analysis/deconvolution_0919\" / \"miRNA_celltype_expression.txt\", sep=\"\\t\")"
   ]
  },
  {
   "cell_type": "code",
   "execution_count": null,
   "metadata": {},
   "outputs": [],
   "source": []
  }
 ],
 "metadata": {
  "kernelspec": {
   "display_name": "Python [conda env:rl-env] *",
   "language": "python",
   "name": "conda-env-rl-env-py"
  },
  "language_info": {
   "codemirror_mode": {
    "name": "ipython",
    "version": 3
   },
   "file_extension": ".py",
   "mimetype": "text/x-python",
   "name": "python",
   "nbconvert_exporter": "python",
   "pygments_lexer": "ipython3",
   "version": "3.7.7"
  }
 },
 "nbformat": 4,
 "nbformat_minor": 2
}
