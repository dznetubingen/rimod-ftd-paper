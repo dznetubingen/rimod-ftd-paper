{
 "cells": [
  {
   "cell_type": "code",
   "execution_count": 1,
   "metadata": {},
   "outputs": [],
   "source": [
    "import pandas as pd\n",
    "import numpy as np\n",
    "from scipy.optimize import nnls\n",
    "import statsmodels.api as sm\n",
    "import statsmodels.formula.api as smf"
   ]
  },
  {
   "cell_type": "markdown",
   "metadata": {},
   "source": [
    "# Load Data"
   ]
  },
  {
   "cell_type": "code",
   "execution_count": 4,
   "metadata": {},
   "outputs": [],
   "source": [
    "data_dir = \"/home/kevin/rimod/RNAseq/analysis/deconvolution/\"\n",
    "\n",
    "# load expression matrix\n",
    "mat = pd.read_csv(data_dir + \"frontal_lengthScaledTPM_counts.txt\", sep=\"\\t\", index_col=0)\n",
    "mat.index = [x.split(\".\")[0] for x in list(mat.index)]\n",
    "\n",
    "# load predicted fractions\n",
    "fracs = pd.read_csv(data_dir + \"cdn_predictions.txt\", sep=\"\\t\", index_col=0)\n",
    "fracs.columns = [x.replace(\"X\", \"\") for x in list(fracs.columns)]\n",
    "fracs['Neurons'] = fracs['InNeurons'] + fracs['ExNeurons'] \n",
    "fracs.drop(['InNeurons', 'ExNeurons', 'Unknown', 'OPC'], axis=1, inplace=True)\n",
    "\n",
    "\n",
    "# Create matrices\n",
    "genes = list(mat.index)\n",
    "celltypes = fracs.columns\n",
    "M = np.array(mat)\n",
    "F = np.array(fracs)"
   ]
  },
  {
   "cell_type": "markdown",
   "metadata": {},
   "source": [
    "# Perform regression"
   ]
  },
  {
   "cell_type": "code",
   "execution_count": 6,
   "metadata": {},
   "outputs": [],
   "source": [
    "exp_list = []\n",
    "residual_list = []\n",
    "for i in range(M.shape[0]):\n",
    "    res = nnls(F, M[i,:])\n",
    "    exp_list.append(res[0])\n",
    "    residual_list.append(res[1])"
   ]
  },
  {
   "cell_type": "code",
   "execution_count": 7,
   "metadata": {},
   "outputs": [],
   "source": [
    "df = pd.DataFrame(exp_list, index=genes, columns = celltypes)"
   ]
  },
  {
   "cell_type": "code",
   "execution_count": 8,
   "metadata": {},
   "outputs": [
    {
     "data": {
      "text/html": [
       "<div>\n",
       "<style scoped>\n",
       "    .dataframe tbody tr th:only-of-type {\n",
       "        vertical-align: middle;\n",
       "    }\n",
       "\n",
       "    .dataframe tbody tr th {\n",
       "        vertical-align: top;\n",
       "    }\n",
       "\n",
       "    .dataframe thead th {\n",
       "        text-align: right;\n",
       "    }\n",
       "</style>\n",
       "<table border=\"1\" class=\"dataframe\">\n",
       "  <thead>\n",
       "    <tr style=\"text-align: right;\">\n",
       "      <th></th>\n",
       "      <th>Oligodendrocytes</th>\n",
       "      <th>Endothelial</th>\n",
       "      <th>Microglia</th>\n",
       "      <th>Astrocytes</th>\n",
       "      <th>Neurons</th>\n",
       "    </tr>\n",
       "  </thead>\n",
       "  <tbody>\n",
       "    <tr>\n",
       "      <th>ENSG00000000003</th>\n",
       "      <td>0.000000</td>\n",
       "      <td>4613.94447</td>\n",
       "      <td>2451.299694</td>\n",
       "      <td>2073.974210</td>\n",
       "      <td>0.000000</td>\n",
       "    </tr>\n",
       "    <tr>\n",
       "      <th>ENSG00000000005</th>\n",
       "      <td>0.000000</td>\n",
       "      <td>0.00000</td>\n",
       "      <td>20.116560</td>\n",
       "      <td>0.943415</td>\n",
       "      <td>3.866203</td>\n",
       "    </tr>\n",
       "    <tr>\n",
       "      <th>ENSG00000000419</th>\n",
       "      <td>0.000000</td>\n",
       "      <td>0.00000</td>\n",
       "      <td>4670.013671</td>\n",
       "      <td>0.000000</td>\n",
       "      <td>773.676473</td>\n",
       "    </tr>\n",
       "    <tr>\n",
       "      <th>ENSG00000000457</th>\n",
       "      <td>0.000000</td>\n",
       "      <td>0.00000</td>\n",
       "      <td>3467.227035</td>\n",
       "      <td>731.107249</td>\n",
       "      <td>742.894688</td>\n",
       "    </tr>\n",
       "    <tr>\n",
       "      <th>ENSG00000000460</th>\n",
       "      <td>270.172153</td>\n",
       "      <td>0.00000</td>\n",
       "      <td>3372.773023</td>\n",
       "      <td>656.927417</td>\n",
       "      <td>184.557020</td>\n",
       "    </tr>\n",
       "  </tbody>\n",
       "</table>\n",
       "</div>"
      ],
      "text/plain": [
       "                 Oligodendrocytes  Endothelial    Microglia   Astrocytes  \\\n",
       "ENSG00000000003          0.000000   4613.94447  2451.299694  2073.974210   \n",
       "ENSG00000000005          0.000000      0.00000    20.116560     0.943415   \n",
       "ENSG00000000419          0.000000      0.00000  4670.013671     0.000000   \n",
       "ENSG00000000457          0.000000      0.00000  3467.227035   731.107249   \n",
       "ENSG00000000460        270.172153      0.00000  3372.773023   656.927417   \n",
       "\n",
       "                    Neurons  \n",
       "ENSG00000000003    0.000000  \n",
       "ENSG00000000005    3.866203  \n",
       "ENSG00000000419  773.676473  \n",
       "ENSG00000000457  742.894688  \n",
       "ENSG00000000460  184.557020  "
      ]
     },
     "execution_count": 8,
     "metadata": {},
     "output_type": "execute_result"
    }
   ],
   "source": [
    "df.head()"
   ]
  },
  {
   "cell_type": "code",
   "execution_count": 9,
   "metadata": {},
   "outputs": [
    {
     "data": {
      "text/plain": [
       "Oligodendrocytes        0.000000\n",
       "Endothelial             0.000000\n",
       "Microglia               0.000000\n",
       "Astrocytes              0.000000\n",
       "Neurons             73552.641679\n",
       "Name: ENSG00000132639, dtype: float64"
      ]
     },
     "execution_count": 9,
     "metadata": {},
     "output_type": "execute_result"
    }
   ],
   "source": [
    "snap = \"ENSG00000132639\"\n",
    "snap in genes\n",
    "df.loc[snap,]"
   ]
  },
  {
   "cell_type": "markdown",
   "metadata": {},
   "source": [
    "# Group-wise regression"
   ]
  },
  {
   "cell_type": "code",
   "execution_count": 12,
   "metadata": {},
   "outputs": [],
   "source": [
    "# load expression matrix\n",
    "mat = pd.read_csv(data_dir + \"frontal_lengthScaledTPM_counts.txt\", sep=\"\\t\", index_col=0)\n",
    "mat.index = [x.split(\".\")[0] for x in list(mat.index)]\n",
    "\n",
    "# load predicted fractions\n",
    "fracs = pd.read_csv(data_dir + \"cdn_predictions.txt\", sep=\"\\t\", index_col=0)\n",
    "fracs.index = [x.replace(\"X\", \"\") for x in list(fracs.index)]\n",
    "fracs['Neurons'] = fracs['InNeurons'] + fracs['ExNeurons'] \n",
    "fracs.drop(['InNeurons', 'ExNeurons', 'Unknown', 'OPC'], axis=1, inplace=True)\n",
    "\n",
    "# load metadata\n",
    "md = pd.read_csv(data_dir + \"rnaseq_frontal_md.txt\", sep=\"\\t\")\n",
    "\n",
    "# Divide by group\n",
    "# MAPT\n",
    "mapt = list(md[md['mutated_gene'] == 'MAPT']['ids'])\n",
    "fracs_mapt = fracs.loc[mapt]\n",
    "mat_mapt = mat[mapt]\n",
    "\n",
    "# GRN\n",
    "grn = list(md[md['mutated_gene'] == 'GRN']['ids'])\n",
    "fracs_grn = fracs.loc[grn]\n",
    "mat_grn = mat[grn]\n",
    "\n",
    "# control\n",
    "control = list(md[md['mutated_gene'] == 'control']['ids'])\n",
    "fracs_control = fracs.loc[control]\n",
    "mat_control = mat[control]\n",
    "\n",
    "# C9orf72\n",
    "c9 = list(md[md['mutated_gene'] == 'C9orf72']['ids'])\n",
    "fracs_c9 = fracs.loc[c9]\n",
    "mat_c9 = mat[c9]"
   ]
  },
  {
   "cell_type": "markdown",
   "metadata": {},
   "source": [
    "## FTD-MAPT expression"
   ]
  },
  {
   "cell_type": "code",
   "execution_count": 13,
   "metadata": {},
   "outputs": [],
   "source": [
    "M = np.array(mat_mapt)\n",
    "F = np.array(fracs_mapt)\n",
    "\n",
    "exp_list = []\n",
    "residual_list = []\n",
    "for i in range(M.shape[0]):\n",
    "    res = nnls(F, M[i,:])\n",
    "    exp_list.append(res[0])\n",
    "    residual_list.append(res[1])\n",
    "    \n",
    "mapt_df = pd.DataFrame(exp_list, index=genes, columns = celltypes)\n",
    "mapt_residuals = residual_list\n",
    "mapt_df['residuals'] = mapt_residuals"
   ]
  },
  {
   "cell_type": "markdown",
   "metadata": {},
   "source": [
    "## FTD-GRN expression"
   ]
  },
  {
   "cell_type": "code",
   "execution_count": 14,
   "metadata": {},
   "outputs": [],
   "source": [
    "M = np.array(mat_grn)\n",
    "F = np.array(fracs_grn)\n",
    "\n",
    "exp_list = []\n",
    "residual_list = []\n",
    "for i in range(M.shape[0]):\n",
    "    res = nnls(F, M[i,:])\n",
    "    exp_list.append(res[0])\n",
    "    residual_list.append(res[1])\n",
    "    \n",
    "grn_df = pd.DataFrame(exp_list, index=genes, columns = celltypes)\n",
    "grn_residuals = residual_list\n",
    "grn_df['residuals'] = grn_residuals"
   ]
  },
  {
   "cell_type": "markdown",
   "metadata": {},
   "source": [
    "## FTD-C9orf72 expression"
   ]
  },
  {
   "cell_type": "code",
   "execution_count": 15,
   "metadata": {},
   "outputs": [],
   "source": [
    "M = np.array(mat_c9)\n",
    "F = np.array(fracs_c9)\n",
    "\n",
    "exp_list = []\n",
    "residual_list = []\n",
    "for i in range(M.shape[0]):\n",
    "    res = nnls(F, M[i,:])\n",
    "    exp_list.append(res[0])\n",
    "    residual_list.append(res[1])\n",
    "    \n",
    "c9_df = pd.DataFrame(exp_list, index=genes, columns = celltypes)\n",
    "c9_residuals = residual_list\n",
    "c9_df['residuals'] = c9_residuals"
   ]
  },
  {
   "cell_type": "markdown",
   "metadata": {},
   "source": [
    "## Control expression"
   ]
  },
  {
   "cell_type": "code",
   "execution_count": 16,
   "metadata": {},
   "outputs": [],
   "source": [
    "M = np.array(mat_control)\n",
    "F = np.array(fracs_control)\n",
    "\n",
    "exp_list = []\n",
    "residual_list = []\n",
    "for i in range(M.shape[0]):\n",
    "    res = nnls(F, M[i,:])\n",
    "    exp_list.append(res[0])\n",
    "    residual_list.append(res[1])\n",
    "    \n",
    "control_df = pd.DataFrame(exp_list, index=genes, columns = celltypes)\n",
    "control_residuals = residual_list\n",
    "control_df['residuals'] = control_residuals"
   ]
  },
  {
   "cell_type": "markdown",
   "metadata": {},
   "source": [
    "## Save the data"
   ]
  },
  {
   "cell_type": "code",
   "execution_count": 17,
   "metadata": {},
   "outputs": [],
   "source": [
    "mapt_df.to_csv(data_dir + \"mapt_celltype_expression.txt\", sep=\"\\t\")\n",
    "grn_df.to_csv(data_dir + \"grn_celltype_expression.txt\", sep=\"\\t\")\n",
    "c9_df.to_csv(data_dir + \"c9_celltype_expression.txt\", sep=\"\\t\")\n",
    "control_df.to_csv(data_dir + \"control_celltype_expression.txt\", sep=\"\\t\")"
   ]
  },
  {
   "cell_type": "code",
   "execution_count": 19,
   "metadata": {},
   "outputs": [
    {
     "data": {
      "text/html": [
       "<div>\n",
       "<style scoped>\n",
       "    .dataframe tbody tr th:only-of-type {\n",
       "        vertical-align: middle;\n",
       "    }\n",
       "\n",
       "    .dataframe tbody tr th {\n",
       "        vertical-align: top;\n",
       "    }\n",
       "\n",
       "    .dataframe thead th {\n",
       "        text-align: right;\n",
       "    }\n",
       "</style>\n",
       "<table border=\"1\" class=\"dataframe\">\n",
       "  <thead>\n",
       "    <tr style=\"text-align: right;\">\n",
       "      <th></th>\n",
       "      <th>control</th>\n",
       "      <th>MAPT</th>\n",
       "      <th>GRN</th>\n",
       "      <th>C9orf72</th>\n",
       "    </tr>\n",
       "  </thead>\n",
       "  <tbody>\n",
       "    <tr>\n",
       "      <th>Oligodendrocytes</th>\n",
       "      <td>0.000000</td>\n",
       "      <td>0.000000</td>\n",
       "      <td>2317.489486</td>\n",
       "      <td>0.000000</td>\n",
       "    </tr>\n",
       "    <tr>\n",
       "      <th>Endothelial</th>\n",
       "      <td>2821.623305</td>\n",
       "      <td>3693.279071</td>\n",
       "      <td>0.000000</td>\n",
       "      <td>0.000000</td>\n",
       "    </tr>\n",
       "    <tr>\n",
       "      <th>Microglia</th>\n",
       "      <td>6799.009608</td>\n",
       "      <td>0.000000</td>\n",
       "      <td>0.000000</td>\n",
       "      <td>56915.676792</td>\n",
       "    </tr>\n",
       "    <tr>\n",
       "      <th>Astrocytes</th>\n",
       "      <td>0.000000</td>\n",
       "      <td>3604.371061</td>\n",
       "      <td>179.105462</td>\n",
       "      <td>0.000000</td>\n",
       "    </tr>\n",
       "    <tr>\n",
       "      <th>Neurons</th>\n",
       "      <td>1159.726657</td>\n",
       "      <td>732.235640</td>\n",
       "      <td>1375.960574</td>\n",
       "      <td>0.000000</td>\n",
       "    </tr>\n",
       "    <tr>\n",
       "      <th>residuals</th>\n",
       "      <td>1352.014036</td>\n",
       "      <td>1125.210203</td>\n",
       "      <td>654.509106</td>\n",
       "      <td>3173.254858</td>\n",
       "    </tr>\n",
       "  </tbody>\n",
       "</table>\n",
       "</div>"
      ],
      "text/plain": [
       "                      control         MAPT          GRN       C9orf72\n",
       "Oligodendrocytes     0.000000     0.000000  2317.489486      0.000000\n",
       "Endothelial       2821.623305  3693.279071     0.000000      0.000000\n",
       "Microglia         6799.009608     0.000000     0.000000  56915.676792\n",
       "Astrocytes           0.000000  3604.371061   179.105462      0.000000\n",
       "Neurons           1159.726657   732.235640  1375.960574      0.000000\n",
       "residuals         1352.014036  1125.210203   654.509106   3173.254858"
      ]
     },
     "execution_count": 19,
     "metadata": {},
     "output_type": "execute_result"
    }
   ],
   "source": [
    "# Check certain gene\n",
    "gene = \"ENSG00000030582\"\n",
    "dfs = [control_df, mapt_df, grn_df, c9_df]\n",
    "names = ['control', 'MAPT', 'GRN', 'C9orf72']\n",
    "exp_list = []\n",
    "for i in range(4):\n",
    "    df = dfs[i]\n",
    "    name = names[i]\n",
    "    tmp = df.loc[gene,]\n",
    "    exp_list.append(list(tmp))\n",
    "\n",
    "df = pd.DataFrame(exp_list).T\n",
    "df.columns = names\n",
    "indices = list(celltypes) + ['residuals']\n",
    "df.index = indices\n",
    "df"
   ]
  },
  {
   "cell_type": "markdown",
   "metadata": {},
   "source": [
    "# One-celltype regression\n",
    "Only use one celltype at a time and group all the others together. This should give the regression better power and should allow to get better results."
   ]
  },
  {
   "cell_type": "code",
   "execution_count": 23,
   "metadata": {},
   "outputs": [],
   "source": [
    "def group_celltypes(fracs, coi):\n",
    "    \"\"\"\n",
    "    Group together cell types of interest and the rest\n",
    "    \"\"\"\n",
    "    new_fracs = fracs.copy()\n",
    "    # cell types\n",
    "    all_cts = list(new_fracs.columns)\n",
    "    rest_cts = [x for x in all_cts if x not in coi]\n",
    "        \n",
    "    # Group cell types of interest (if several)\n",
    "    new_fracs['coi'] = new_fracs[coi[0]]\n",
    "    if len(coi) > 1:\n",
    "        for i in range(1, len(coi)):\n",
    "            new_fracs['coi'] += new_fracs[coi[i]]\n",
    "    \n",
    "    # Group remaining celltypes\n",
    "    new_fracs['rest'] = new_fracs[rest_cts[0]]\n",
    "    for i in range(1, len(rest_cts)):\n",
    "        new_fracs['rest'] += new_fracs[rest_cts[i]]\n",
    "    \n",
    "    # Drop all cell types\n",
    "    new_fracs.drop(all_cts, axis=1, inplace=True)\n",
    "    new_fracs.columns = [coi[0], 'rest']\n",
    "    \n",
    "    return new_fracs\n",
    "\n",
    "\n",
    "def regress_celltype(matrix, fractions):\n",
    "    \"\"\"\n",
    "    Regress the expression of a certain cell type\n",
    "    \"\"\"\n",
    "    M = np.array(matrix)\n",
    "    F = np.array(fractions)\n",
    "\n",
    "    exp_list = []\n",
    "    residual_list = []\n",
    "    for i in range(M.shape[0]):\n",
    "        res = nnls(F, M[i,:])\n",
    "        exp_list.append(res[0])\n",
    "        residual_list.append(res[1])\n",
    "\n",
    "    df = pd.DataFrame(exp_list, index=list(matrix.index), columns = list(fractions.columns))\n",
    "    df['residuals'] = residual_list\n",
    "    return df"
   ]
  },
  {
   "cell_type": "markdown",
   "metadata": {},
   "source": [
    "## FTD-MAPT"
   ]
  },
  {
   "cell_type": "code",
   "execution_count": 111,
   "metadata": {},
   "outputs": [
    {
     "data": {
      "text/plain": [
       "Microglia    3334.134152\n",
       "rest         1001.199395\n",
       "residuals    1429.101678\n",
       "Name: ENSG00000030582, dtype: float64"
      ]
     },
     "execution_count": 111,
     "metadata": {},
     "output_type": "execute_result"
    }
   ],
   "source": [
    "endo_mapt = group_celltypes(fracs_control, ['Microglia'])\n",
    "endo_df = regress_celltype(mat_control, endo_mapt)\n",
    "gene = \"ENSG00000030582\"\n",
    "endo_df.loc[gene,]"
   ]
  },
  {
   "cell_type": "code",
   "execution_count": null,
   "metadata": {},
   "outputs": [],
   "source": []
  },
  {
   "cell_type": "markdown",
   "metadata": {},
   "source": [
    "# Statsmodels regression"
   ]
  },
  {
   "cell_type": "code",
   "execution_count": 96,
   "metadata": {},
   "outputs": [],
   "source": [
    "\n",
    "\n",
    "# load expression matrix\n",
    "mat = pd.read_csv(data_dir + \"frontal_lengthScaledTPM_counts.txt\", sep=\"\\t\", index_col=0)\n",
    "mat.index = [x.split(\".\")[0] for x in list(mat.index)]\n",
    "\n",
    "# load predicted fractions\n",
    "fracs = pd.read_csv(data_dir + \"cdn_predictions.txt\", sep=\"\\t\", index_col=0)\n",
    "fracs.index = [x.replace(\"X\", \"\") for x in list(fracs.index)]\n",
    "fracs['Neurons'] = fracs['InNeurons'] + fracs['ExNeurons']\n",
    "fracs.drop(['InNeurons', 'ExNeurons', 'Unknown'], axis=1, inplace=True)\n",
    "\n",
    "# load metadata\n",
    "md = pd.read_csv(data_dir + \"rnaseq_frontal_md.txt\", sep=\"\\t\")\n",
    "\n",
    "# Only keep control and FTD-MAPT samples\n",
    "mapt = list(md[md['mutated_gene'] == 'MAPT']['ids'])\n",
    "control = list(md[md['mutated_gene'] == 'control']['ids'])\n",
    "keep = mapt + control\n",
    "\n",
    "fracs = fracs.loc[keep]\n",
    "mat = mat[keep]\n",
    "\n",
    "# generated regressors\n",
    "neural_difference = [1]*len(mapt) + [0]*len(control)"
   ]
  },
  {
   "cell_type": "code",
   "execution_count": 100,
   "metadata": {},
   "outputs": [
    {
     "name": "stdout",
     "output_type": "stream",
     "text": [
      "                            OLS Regression Results                            \n",
      "==============================================================================\n",
      "Dep. Variable:             Expression   R-squared:                       0.145\n",
      "Model:                            OLS   Adj. R-squared:                  0.111\n",
      "Method:                 Least Squares   F-statistic:                     4.231\n",
      "Date:                Wed, 11 Sep 2019   Prob (F-statistic):             0.0503\n",
      "Time:                        14:59:18   Log-Likelihood:                -260.79\n",
      "No. Observations:                  27   AIC:                             525.6\n",
      "Df Residuals:                      25   BIC:                             528.2\n",
      "Df Model:                           1                                         \n",
      "Covariance Type:            nonrobust                                         \n",
      "==============================================================================\n",
      "                 coef    std err          t      P>|t|      [0.025      0.975]\n",
      "------------------------------------------------------------------------------\n",
      "Intercept   7268.4293   3260.020      2.230      0.035     554.292     1.4e+04\n",
      "Neurons     1.037e+04   5041.177      2.057      0.050     -13.547    2.08e+04\n",
      "==============================================================================\n",
      "Omnibus:                       11.847   Durbin-Watson:                   1.921\n",
      "Prob(Omnibus):                  0.003   Jarque-Bera (JB):               10.713\n",
      "Skew:                           1.266   Prob(JB):                      0.00472\n",
      "Kurtosis:                       4.764   Cond. No.                         9.33\n",
      "==============================================================================\n",
      "\n",
      "Warnings:\n",
      "[1] Standard Errors assume that the covariance matrix of the errors is correctly specified.\n"
     ]
    }
   ],
   "source": [
    "fracs['Neural_diff'] = neural_difference * fracs['Neurons']\n",
    "fracs = pd.DataFrame(fracs)\n",
    "gene = \"ENSG00000186868\"\n",
    "exp = np.array(mat.loc[gene,])\n",
    "\n",
    "fracs['Expression'] = exp\n",
    "df = fracs\n",
    "df.head()\n",
    "mod = smf.ols(formula='Expression ~ Neurons', data=df).fit()\n",
    "print(mod.summary())"
   ]
  },
  {
   "cell_type": "code",
   "execution_count": 103,
   "metadata": {},
   "outputs": [
    {
     "name": "stdout",
     "output_type": "stream",
     "text": [
      "                                 OLS Regression Results                                \n",
      "=======================================================================================\n",
      "Dep. Variable:                      y   R-squared (uncentered):                   1.000\n",
      "Model:                            OLS   Adj. R-squared (uncentered):              1.000\n",
      "Method:                 Least Squares   F-statistic:                          1.281e+31\n",
      "Date:                Wed, 11 Sep 2019   Prob (F-statistic):                   2.79e-290\n",
      "Time:                        15:00:22   Log-Likelihood:                          658.49\n",
      "No. Observations:                  27   AIC:                                     -1301.\n",
      "Df Residuals:                      19   BIC:                                     -1291.\n",
      "Df Model:                           8                                                  \n",
      "Covariance Type:            nonrobust                                                  \n",
      "==============================================================================\n",
      "                 coef    std err          t      P>|t|      [0.025      0.975]\n",
      "------------------------------------------------------------------------------\n",
      "x1                  0   2.89e-11          0      1.000   -6.05e-11    6.05e-11\n",
      "x2         -1.455e-10      4e-10     -0.364      0.720   -9.83e-10    6.92e-10\n",
      "x3         -5.821e-11   2.38e-10     -0.244      0.810   -5.57e-10    4.41e-10\n",
      "x4         -5.821e-11   7.05e-11     -0.825      0.419   -2.06e-10    8.94e-11\n",
      "x5          4.657e-10   4.39e-10      1.060      0.303   -4.54e-10    1.39e-09\n",
      "x6         -1.273e-11   8.85e-12     -1.439      0.166   -3.12e-11    5.78e-12\n",
      "x7         -2.728e-12   5.68e-12     -0.480      0.637   -1.46e-11    9.17e-12\n",
      "x8             1.0000   4.04e-16   2.47e+15      0.000       1.000       1.000\n",
      "==============================================================================\n",
      "Omnibus:                        5.378   Durbin-Watson:                   1.010\n",
      "Prob(Omnibus):                  0.068   Jarque-Bera (JB):                5.527\n",
      "Skew:                          -0.063   Prob(JB):                       0.0631\n",
      "Kurtosis:                       5.213   Cond. No.                     5.41e+06\n",
      "==============================================================================\n",
      "\n",
      "Warnings:\n",
      "[1] Standard Errors assume that the covariance matrix of the errors is correctly specified.\n",
      "[2] The condition number is large, 5.41e+06. This might indicate that there are\n",
      "strong multicollinearity or other numerical problems.\n"
     ]
    }
   ],
   "source": [
    "mod = sm.OLS(exp, np.array(fracs)).fit()\n",
    "print(mod.summary())"
   ]
  },
  {
   "cell_type": "code",
   "execution_count": null,
   "metadata": {},
   "outputs": [],
   "source": []
  }
 ],
 "metadata": {
  "kernelspec": {
   "display_name": "Python 3",
   "language": "python",
   "name": "python3"
  },
  "language_info": {
   "codemirror_mode": {
    "name": "ipython",
    "version": 3
   },
   "file_extension": ".py",
   "mimetype": "text/x-python",
   "name": "python",
   "nbconvert_exporter": "python",
   "pygments_lexer": "ipython3",
   "version": "3.6.8"
  }
 },
 "nbformat": 4,
 "nbformat_minor": 2
}
